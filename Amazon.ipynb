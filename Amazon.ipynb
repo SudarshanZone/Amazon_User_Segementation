{
 "cells": [
  {
   "cell_type": "markdown",
   "id": "d422edd5",
   "metadata": {},
   "source": [
    "# Importing the libraries"
   ]
  },
  {
   "cell_type": "code",
   "execution_count": 2,
   "id": "1a1465df",
   "metadata": {},
   "outputs": [],
   "source": [
    "import numpy as np\n",
    "import matplotlib.pyplot as plt\n",
    "import pandas as pd"
   ]
  },
  {
   "cell_type": "markdown",
   "id": "1aeaa2a1",
   "metadata": {},
   "source": [
    "#  Importing Dataset"
   ]
  },
  {
   "cell_type": "code",
   "execution_count": 3,
   "id": "2942250f",
   "metadata": {},
   "outputs": [],
   "source": [
    "dataset = pd.read_csv('Amazon.csv')\n",
    "X =dataset.iloc[:,3:5].values\n",
    "# or We Can Write => X =dataset.iloc[:,[3,4]].values\n"
   ]
  },
  {
   "cell_type": "code",
   "execution_count": 15,
   "id": "407c19af",
   "metadata": {},
   "outputs": [
    {
     "name": "stdout",
     "output_type": "stream",
     "text": [
      "[[ 306555      44]\n",
      " [ 306555      91]\n",
      " [ 326992       7]\n",
      " [ 326992      87]\n",
      " [ 347429      45]\n",
      " [ 347429      86]\n",
      " [ 367866       7]\n",
      " [ 367866     106]\n",
      " [ 388303       4]\n",
      " [ 388303      81]\n",
      " [ 388303      16]\n",
      " [ 388303     111]\n",
      " [ 408740      17]\n",
      " [ 408740      87]\n",
      " [ 408740      15]\n",
      " [ 408740      89]\n",
      " [ 429177      40]\n",
      " [ 429177      74]\n",
      " [ 470051      33]\n",
      " [ 470051     110]\n",
      " [ 490488      40]\n",
      " [ 490488      82]\n",
      " [ 510925       6]\n",
      " [ 510925      82]\n",
      " [ 572236      16]\n",
      " [ 572236      92]\n",
      " [ 572236      36]\n",
      " [ 572236      69]\n",
      " [ 592673      35]\n",
      " [ 592673      98]\n",
      " [ 613110       5]\n",
      " [ 613110      82]\n",
      " [ 674421       5]\n",
      " [ 674421     104]\n",
      " [ 674421      16]\n",
      " [ 674421      91]\n",
      " [ 694858      20]\n",
      " [ 694858      82]\n",
      " [ 756169      30]\n",
      " [ 756169      84]\n",
      " [ 776606      40]\n",
      " [ 776606     104]\n",
      " [ 797043      41]\n",
      " [ 797043      69]\n",
      " [ 797043      32]\n",
      " [ 797043      73]\n",
      " [ 817480      62]\n",
      " [ 817480      53]\n",
      " [ 817480      48]\n",
      " [ 817480      48]\n",
      " [ 858354      59]\n",
      " [ 858354      68]\n",
      " [ 878791      61]\n",
      " [ 878791      68]\n",
      " [ 878791      51]\n",
      " [ 878791      46]\n",
      " [ 899228      56]\n",
      " [ 899228      52]\n",
      " [ 940102      58]\n",
      " [ 940102      52]\n",
      " [ 940102      63]\n",
      " [ 940102      62]\n",
      " [ 960539      59]\n",
      " [ 960539      67]\n",
      " [ 980976      58]\n",
      " [ 980976      67]\n",
      " [ 980976      56]\n",
      " [ 980976      54]\n",
      " [ 980976      67]\n",
      " [ 980976      53]\n",
      " [1001413      62]\n",
      " [1001413      48]\n",
      " [1021850      55]\n",
      " [1021850      63]\n",
      " [1103598      53]\n",
      " [1103598      61]\n",
      " [1103598      60]\n",
      " [1103598      54]\n",
      " [1103598      59]\n",
      " [1103598      48]\n",
      " [1103598      58]\n",
      " [1103598      62]\n",
      " [1103598      46]\n",
      " [1103598      50]\n",
      " [1103598      64]\n",
      " [1103598      52]\n",
      " [1164909      65]\n",
      " [1164909      62]\n",
      " [1185346      68]\n",
      " [1185346      52]\n",
      " [1205783      62]\n",
      " [1205783      46]\n",
      " [1226220      55]\n",
      " [1226220      45]\n",
      " [1226220      48]\n",
      " [1226220      59]\n",
      " [1226220      53]\n",
      " [1226220      56]\n",
      " [1246657      48]\n",
      " [1246657      55]\n",
      " [1267094      46]\n",
      " [1267094      54]\n",
      " [1267094      67]\n",
      " [1267094      62]\n",
      " [1267094      63]\n",
      " [1267094      48]\n",
      " [1287531      56]\n",
      " [1287531      52]\n",
      " [1287531      49]\n",
      " [1287531      54]\n",
      " [1287531      59]\n",
      " [1287531      61]\n",
      " [1307968      48]\n",
      " [1307968      52]\n",
      " [1328405      54]\n",
      " [1328405      56]\n",
      " [1328405      49]\n",
      " [1328405      67]\n",
      " [1369279      49]\n",
      " [1369279      64]\n",
      " [1369279      63]\n",
      " [1369279      45]\n",
      " [1410153      65]\n",
      " [1410153     102]\n",
      " [1430590      33]\n",
      " [1430590      87]\n",
      " [1451027      40]\n",
      " [1451027     107]\n",
      " [1451027      13]\n",
      " [1451027      84]\n",
      " [1451027      11]\n",
      " [1451027      84]\n",
      " [1471464      39]\n",
      " [1471464      80]\n",
      " [1491901       6]\n",
      " [1491901      99]\n",
      " [1491901       8]\n",
      " [1491901      82]\n",
      " [1512338      12]\n",
      " [1512338      81]\n",
      " [1532775       6]\n",
      " [1532775     105]\n",
      " [1553212      45]\n",
      " [1553212      98]\n",
      " [1573649      14]\n",
      " [1573649     109]\n",
      " [1573649      41]\n",
      " [1573649      83]\n",
      " [1594086      25]\n",
      " [1594086     101]\n",
      " [1594086      20]\n",
      " [1594086      99]\n",
      " [1594086      23]\n",
      " [1594086      86]\n",
      " [1594086      18]\n",
      " [1594086     100]\n",
      " [1594086       2]\n",
      " [1594086      88]\n",
      " [1594086       2]\n",
      " [1594086      82]\n",
      " [1614523      40]\n",
      " [1614523      93]\n",
      " [1655397       6]\n",
      " [1655397     105]\n",
      " [1737145      30]\n",
      " [1737145      84]\n",
      " [1757582      23]\n",
      " [1757582     107]\n",
      " [1778019      31]\n",
      " [1778019      71]\n",
      " [1778019      15]\n",
      " [1778019      84]\n",
      " [1778019      12]\n",
      " [1778019     104]\n",
      " [1798456      15]\n",
      " [1798456      97]\n",
      " [1798456      17]\n",
      " [1798456      78]\n",
      " [1900641      16]\n",
      " [1900641     101]\n",
      " [1982389      36]\n",
      " [1982389      97]\n",
      " [2002826      17]\n",
      " [2002826      99]\n",
      " [2023263      44]\n",
      " [2023263     109]\n",
      " [2064137      27]\n",
      " [2064137      77]\n",
      " [2105011      20]\n",
      " [2105011      96]\n",
      " [2105011      26]\n",
      " [2105011      78]\n",
      " [2309381       9]\n",
      " [2309381     102]\n",
      " [2452440      18]\n",
      " [2452440      89]\n",
      " [2575062      32]\n",
      " [2575062      83]\n",
      " [2799869      21]\n",
      " [2799869      93]]\n"
     ]
    }
   ],
   "source": [
    "print(X)"
   ]
  },
  {
   "cell_type": "markdown",
   "id": "4b45c3dc",
   "metadata": {},
   "source": [
    "# Optimal Number Of Clusters via Elbow Method"
   ]
  },
  {
   "cell_type": "code",
   "execution_count": 4,
   "id": "f7b8e144",
   "metadata": {
    "collapsed": true
   },
   "outputs": [
    {
     "data": {
      "image/png": "[encoded data removed]",
      "text/plain": [
       "<Figure size 432x288 with 1 Axes>"
      ]
     },
     "metadata": {
      "needs_background": "light"
     },
     "output_type": "display_data"
    }
   ],
   "source": [
    "import warnings\n",
    "warnings.filterwarnings('ignore')\n",
    "from sklearn.cluster import KMeans\n",
    "wcss=[]\n",
    "\n",
    "for i in range(1,11):\n",
    "    #temp Variavle\n",
    "    kmeans=KMeans(n_clusters=i,init='k-means++',random_state = 21)\n",
    "    kmeans.fit(X)\n",
    "    wcss.append(kmeans.inertia_)\n",
    "\n",
    "plt.plot(range(1,11),wcss)\n",
    "plt.title('WCSS via elbow method') #title \n",
    "plt.xlabel('Number of Clusters')  #Xlabel name\n",
    "plt.ylabel('WCSS value')  #Y label Name\n",
    "\n",
    "plt.show()"
   ]
  },
  {
   "cell_type": "markdown",
   "id": "fa864548",
   "metadata": {},
   "source": [
    "# K-Mean Model Training on Training Set"
   ]
  },
  {
   "cell_type": "code",
   "execution_count": 10,
   "id": "4def692b",
   "metadata": {},
   "outputs": [],
   "source": [
    "kmeans=KMeans(n_clusters=4 ,init='k-means++',random_state=42)\n",
    "y_means=kmeans.fit_predict(X)"
   ]
  },
  {
   "cell_type": "code",
   "execution_count": 11,
   "id": "1d5ed867",
   "metadata": {},
   "outputs": [
    {
     "name": "stdout",
     "output_type": "stream",
     "text": [
      "[2 2 2 2 2 2 2 2 2 2 2 2 2 2 2 2 2 2 2 2 2 2 2 2 2 2 2 2 2 2 2 2 2 2 2 2 2\n",
      " 2 2 2 2 2 2 2 2 2 2 2 2 2 0 0 0 0 0 0 0 0 0 0 0 0 0 0 0 0 0 0 0 0 0 0 0 0\n",
      " 0 0 0 0 0 0 0 0 0 0 0 0 0 0 0 0 0 0 0 0 0 0 0 0 0 0 0 0 0 0 0 0 0 0 0 0 0\n",
      " 0 0 0 0 0 0 0 1 1 1 1 1 1 1 1 1 1 1 1 1 1 1 1 1 1 1 1 1 1 1 1 1 1 1 1 1 1\n",
      " 1 1 1 1 1 1 1 1 1 1 1 1 1 1 1 1 1 1 1 1 1 1 1 1 1 1 1 1 1 1 1 1 3 3 3 3 3\n",
      " 3 3 3 3 3 3 3 3 3 3 3 3 3 3 3]\n"
     ]
    }
   ],
   "source": [
    "print(y_means)"
   ]
  },
  {
   "cell_type": "markdown",
   "id": "5448b884",
   "metadata": {},
   "source": [
    "# Visualizing Clusters"
   ]
  },
  {
   "cell_type": "code",
   "execution_count": 17,
   "id": "6753954e",
   "metadata": {},
   "outputs": [
    {
     "data": {
      "image/png": "[encoded data removed]",
      "text/plain": [
       "<Figure size 432x288 with 1 Axes>"
      ]
     },
     "metadata": {
      "needs_background": "light"
     },
     "output_type": "display_data"
    }
   ],
   "source": [
    "plt.scatter(X[y_means == 0,0],X[y_means == 0,1],s=100,c='magenta',label='Cluster1')\n",
    "plt.scatter(X[y_means == 1,0],X[y_means == 1,1],s=100,c='blue',label='Cluster2')\n",
    "plt.scatter(X[y_means == 2,0],X[y_means == 2,1],s=100,c='red',label='Cluster3')\n",
    "plt.scatter(X[y_means == 3,0],X[y_means == 3,1],s=100,c='cyan',label='Cluster4')\n",
    "plt.scatter(kmeans.cluster_centers_[:,0],kmeans.cluster_centers_[:,1],s=300, c ='black', label='Centroids')\n",
    "plt.title('Cluster Of Amazon Users')\n",
    "plt.xlabel('Anual Income In INR')\n",
    "plt.ylabel('Purchase Rating')\n",
    "plt.legend()\n",
    "plt.show()"
   ]
  },
  {
   "cell_type": "code",
   "execution_count": null,
   "id": "4a5acee8",
   "metadata": {},
   "outputs": [],
   "source": []
  }
 ],
 "metadata": {
  "kernelspec": {
   "display_name": "Python 3 (ipykernel)",
   "language": "python",
   "name": "python3"
  },
  "language_info": {
   "codemirror_mode": {
    "name": "ipython",
    "version": 3
   },
   "file_extension": ".py",
   "mimetype": "text/x-python",
   "name": "python",
   "nbconvert_exporter": "python",
   "pygments_lexer": "ipython3",
   "version": "3.9.7"
  }
 },
 "nbformat": 4,
 "nbformat_minor": 5
}
